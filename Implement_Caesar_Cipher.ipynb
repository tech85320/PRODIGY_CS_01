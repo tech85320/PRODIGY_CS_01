{
  "nbformat": 4,
  "nbformat_minor": 0,
  "metadata": {
    "colab": {
      "provenance": []
    },
    "kernelspec": {
      "name": "python3",
      "display_name": "Python 3"
    },
    "language_info": {
      "name": "python"
    }
  },
  "cells": [
    {
      "cell_type": "code",
      "execution_count": 1,
      "metadata": {
        "colab": {
          "base_uri": "https://localhost:8080/"
        },
        "id": "Ox1-EamJUBZH",
        "outputId": "4d7e4276-5bec-445d-a79c-8756b75f16fb"
      },
      "outputs": [
        {
          "output_type": "stream",
          "name": "stdout",
          "text": [
            "Enter the message to encrypt: hello sir\n",
            "Enter the shift value: 5\n",
            "Encrypted message: mjqqt xnw\n"
          ]
        }
      ],
      "source": [
        "def encrypt_caesar_cipher(text, shift):\n",
        "    encrypted_text = \"\"\n",
        "    for char in text:\n",
        "        if char.isalpha():  # Check if the character is a letter\n",
        "            start = ord('A') if char.isupper() else ord('a')\n",
        "            # Perform the shift for letters\n",
        "            encrypted_text += chr((ord(char) - start + shift) % 26 + start)\n",
        "        elif char.isdigit():  # Check if the character is a number\n",
        "            start = ord('0')  # ASCII value for '0'\n",
        "            # Perform the shift for numbers\n",
        "            encrypted_text += chr((ord(char) - start + shift) % 10 + start)\n",
        "        else:\n",
        "            # Non-alphabetic and non-numeric characters remain unchanged\n",
        "            encrypted_text += char\n",
        "    return encrypted_text\n",
        "\n",
        "# Example usage for encryption\n",
        "message = input(\"Enter the message to encrypt: \").strip()\n",
        "shift_value = int(input(\"Enter the shift value: \"))\n",
        "encrypted_message = encrypt_caesar_cipher(message, shift_value)\n",
        "print(f\"Encrypted message: {encrypted_message}\")"
      ]
    },
    {
      "cell_type": "code",
      "source": [
        "def decrypt_caesar_cipher(text, shift):\n",
        "    decrypted_text = \"\"\n",
        "    for char in text:\n",
        "        if char.isalpha():  # Check if the character is a letter\n",
        "            start = ord('A') if char.isupper() else ord('a')\n",
        "            # Perform the reverse shift for letters\n",
        "            decrypted_text += chr((ord(char) - start - shift + 26) % 26 + start)\n",
        "        elif char.isdigit():  # Check if the character is a number\n",
        "            start = ord('0')  # ASCII value for '0'\n",
        "            # Perform the reverse shift for numbers\n",
        "            decrypted_text += chr((ord(char) - start - shift + 10) % 10 + start)\n",
        "        else:\n",
        "            # Non-alphabetic and non-numeric characters remain unchanged\n",
        "            decrypted_text += char\n",
        "    return decrypted_text\n",
        "\n",
        "# Example usage for decryption\n",
        "encrypted_message = input(\"Enter the message to decrypt: \").strip()\n",
        "shift_value = int(input(\"Enter the shift value: \"))\n",
        "decrypted_message = decrypt_caesar_cipher(encrypted_message, shift_value)\n",
        "print(f\"Decrypted message: {decrypted_message}\")"
      ],
      "metadata": {
        "colab": {
          "base_uri": "https://localhost:8080/"
        },
        "id": "JNi-plWdUvtB",
        "outputId": "9d5563d8-0560-4fac-f31c-f6dc2f2ac85c"
      },
      "execution_count": 2,
      "outputs": [
        {
          "output_type": "stream",
          "name": "stdout",
          "text": [
            "Enter the message to decrypt: mjqqt xnw\n",
            "Enter the shift value: 5\n",
            "Decrypted message: hello sir\n"
          ]
        }
      ]
    }
  ]
}